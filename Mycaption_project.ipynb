{
 "cells": [
  {
   "cell_type": "code",
   "execution_count": 3,
   "id": "586707b2",
   "metadata": {},
   "outputs": [
    {
     "name": "stdout",
     "output_type": "stream",
     "text": [
      "input radius of the circle:1.1\n",
      "area of radius is 3.80\n"
     ]
    }
   ],
   "source": [
    "pi= 3.141\n",
    "r = float(input(\"input radius of the circle:\"))\n",
    "a= pi*r*r\n",
    "print(\"area of radius is %.2f\"%a)"
   ]
  },
  {
   "cell_type": "code",
   "execution_count": 6,
   "id": "3c634896",
   "metadata": {},
   "outputs": [
    {
     "name": "stdout",
     "output_type": "stream",
     "text": [
      "Output of the file: circle.py\n",
      "The extension of the file is : py\n"
     ]
    }
   ],
   "source": [
    "fn= input(\"Output of the file: \")\n",
    "\n",
    "f = fn.split(\".\")\n",
    "\n",
    "print (\"The extension of the file is : \" + f[-1])"
   ]
  },
  {
   "cell_type": "code",
   "execution_count": null,
   "id": "4f7b07c2",
   "metadata": {},
   "outputs": [],
   "source": []
  }
 ],
 "metadata": {
  "kernelspec": {
   "display_name": "Python 3 (ipykernel)",
   "language": "python",
   "name": "python3"
  },
  "language_info": {
   "codemirror_mode": {
    "name": "ipython",
    "version": 3
   },
   "file_extension": ".py",
   "mimetype": "text/x-python",
   "name": "python",
   "nbconvert_exporter": "python",
   "pygments_lexer": "ipython3",
   "version": "3.9.7"
  }
 },
 "nbformat": 4,
 "nbformat_minor": 5
}
